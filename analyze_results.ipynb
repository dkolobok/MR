{
 "cells": [
  {
   "cell_type": "code",
   "execution_count": 4,
   "metadata": {
    "tags": []
   },
   "outputs": [
    {
     "name": "stdout",
     "output_type": "stream",
     "text": [
      "z:/cache/MR\\Results\n"
     ]
    }
   ],
   "source": [
    "import os\n",
    "import pandas as pd\n",
    "from config import results_dir\n",
    "print(results_dir)"
   ]
  },
  {
   "cell_type": "code",
   "execution_count": 8,
   "metadata": {
    "collapsed": false,
    "jupyter": {
     "outputs_hidden": false
    },
    "pycharm": {
     "name": "#%%\n"
    }
   },
   "outputs": [
    {
     "data": {
      "text/plain": "  id.exposure             id.outcome  \\\n0    prot-a-1  finn-a-N14_FEMGENPROL   \n1    prot-a-1              ukb-a-577   \n2    prot-a-1               ukb-a-92   \n3    prot-a-1            ukb-b-15904   \n4    prot-a-1              ukb-b-175   \n\n                                             outcome  \\\n0  Female genital prolapse || id:finn-a-N14_FEMGE...   \n1  Diagnoses - main ICD10: N81 Female genital pro...   \n2  Non-cancer illness code  self-reported: vagina...   \n3  Non-cancer illness code, self-reported: prolap...   \n4  Operation code: vaginal prolapse/colposuspensi...   \n\n                                        exposure      method  nsnp         b  \\\n0  APOBEC1 complementation factor || id:prot-a-1  Wald ratio     1  0.128470   \n1  APOBEC1 complementation factor || id:prot-a-1  Wald ratio     1 -0.001216   \n2  APOBEC1 complementation factor || id:prot-a-1  Wald ratio     1 -0.000310   \n3  APOBEC1 complementation factor || id:prot-a-1  Wald ratio     1 -0.001758   \n4  APOBEC1 complementation factor || id:prot-a-1  Wald ratio     1  0.000218   \n\n         se      pval  \n0  0.084355  0.127769  \n1  0.000984  0.216618  \n2  0.000617  0.615021  \n3  0.000912  0.053965  \n4  0.000678  0.747302  ",
      "text/html": "<div>\n<style scoped>\n    .dataframe tbody tr th:only-of-type {\n        vertical-align: middle;\n    }\n\n    .dataframe tbody tr th {\n        vertical-align: top;\n    }\n\n    .dataframe thead th {\n        text-align: right;\n    }\n</style>\n<table border=\"1\" class=\"dataframe\">\n  <thead>\n    <tr style=\"text-align: right;\">\n      <th></th>\n      <th>id.exposure</th>\n      <th>id.outcome</th>\n      <th>outcome</th>\n      <th>exposure</th>\n      <th>method</th>\n      <th>nsnp</th>\n      <th>b</th>\n      <th>se</th>\n      <th>pval</th>\n    </tr>\n  </thead>\n  <tbody>\n    <tr>\n      <th>0</th>\n      <td>prot-a-1</td>\n      <td>finn-a-N14_FEMGENPROL</td>\n      <td>Female genital prolapse || id:finn-a-N14_FEMGE...</td>\n      <td>APOBEC1 complementation factor || id:prot-a-1</td>\n      <td>Wald ratio</td>\n      <td>1</td>\n      <td>0.128470</td>\n      <td>0.084355</td>\n      <td>0.127769</td>\n    </tr>\n    <tr>\n      <th>1</th>\n      <td>prot-a-1</td>\n      <td>ukb-a-577</td>\n      <td>Diagnoses - main ICD10: N81 Female genital pro...</td>\n      <td>APOBEC1 complementation factor || id:prot-a-1</td>\n      <td>Wald ratio</td>\n      <td>1</td>\n      <td>-0.001216</td>\n      <td>0.000984</td>\n      <td>0.216618</td>\n    </tr>\n    <tr>\n      <th>2</th>\n      <td>prot-a-1</td>\n      <td>ukb-a-92</td>\n      <td>Non-cancer illness code  self-reported: vagina...</td>\n      <td>APOBEC1 complementation factor || id:prot-a-1</td>\n      <td>Wald ratio</td>\n      <td>1</td>\n      <td>-0.000310</td>\n      <td>0.000617</td>\n      <td>0.615021</td>\n    </tr>\n    <tr>\n      <th>3</th>\n      <td>prot-a-1</td>\n      <td>ukb-b-15904</td>\n      <td>Non-cancer illness code, self-reported: prolap...</td>\n      <td>APOBEC1 complementation factor || id:prot-a-1</td>\n      <td>Wald ratio</td>\n      <td>1</td>\n      <td>-0.001758</td>\n      <td>0.000912</td>\n      <td>0.053965</td>\n    </tr>\n    <tr>\n      <th>4</th>\n      <td>prot-a-1</td>\n      <td>ukb-b-175</td>\n      <td>Operation code: vaginal prolapse/colposuspensi...</td>\n      <td>APOBEC1 complementation factor || id:prot-a-1</td>\n      <td>Wald ratio</td>\n      <td>1</td>\n      <td>0.000218</td>\n      <td>0.000678</td>\n      <td>0.747302</td>\n    </tr>\n  </tbody>\n</table>\n</div>"
     },
     "execution_count": 8,
     "metadata": {},
     "output_type": "execute_result"
    }
   ],
   "source": [
    "res = pd.read_csv(os.path.join(results_dir, 'prot_vs_prolapse.csv'))\n",
    "\n",
    "res.head()"
   ]
  },
  {
   "cell_type": "code",
   "execution_count": 17,
   "outputs": [
    {
     "data": {
      "text/plain": "                                                                   outcome  \\\nid.exposure id.outcome                                                       \nprot-a-1005 ukb-a-577    Diagnoses - main ICD10: N81 Female genital pro...   \n            ukb-a-577    Diagnoses - main ICD10: N81 Female genital pro...   \nprot-a-1045 ukb-a-92     Non-cancer illness code  self-reported: vagina...   \n            ukb-a-92     Non-cancer illness code  self-reported: vagina...   \nprot-a-1072 ukb-b-175    Operation code: vaginal prolapse/colposuspensi...   \n...                                                                    ...   \nprot-a-794  ukb-a-92     Non-cancer illness code  self-reported: vagina...   \n            ukb-b-11282  Non-cancer illness code, self-reported: vagina...   \n            ukb-b-11282  Non-cancer illness code, self-reported: vagina...   \nprot-a-857  ukb-b-15904  Non-cancer illness code, self-reported: prolap...   \n            ukb-b-15904  Non-cancer illness code, self-reported: prolap...   \n\n                                                                  exposure  \\\nid.exposure id.outcome                                                       \nprot-a-1005 ukb-a-577              Coagulation factor Xa || id:prot-a-1005   \n            ukb-a-577              Coagulation factor Xa || id:prot-a-1005   \nprot-a-1045 ukb-a-92                 Pseudokinase FAM20A || id:prot-a-1045   \n            ukb-a-92                 Pseudokinase FAM20A || id:prot-a-1045   \nprot-a-1072 ukb-b-175    Low affinity immunoglobulin epsilon Fc recepto...   \n...                                                                    ...   \nprot-a-794  ukb-a-92                    Beta-defensin 119 || id:prot-a-794   \n            ukb-b-11282                 Beta-defensin 119 || id:prot-a-794   \n            ukb-b-11282                 Beta-defensin 119 || id:prot-a-794   \nprot-a-857  ukb-b-15904                     Dipeptidase 2 || id:prot-a-857   \n            ukb-b-15904                     Dipeptidase 2 || id:prot-a-857   \n\n                                            method  nsnp         b        se  \\\nid.exposure id.outcome                                                         \nprot-a-1005 ukb-a-577              Weighted median     4 -0.002231  0.000963   \n            ukb-a-577    Inverse variance weighted     4 -0.001807  0.000800   \nprot-a-1045 ukb-a-92               Weighted median     4  0.001381  0.000629   \n            ukb-a-92     Inverse variance weighted     4  0.001202  0.000521   \nprot-a-1072 ukb-b-175              Weighted median     3 -0.001082  0.000526   \n...                                            ...   ...       ...       ...   \nprot-a-794  ukb-a-92     Inverse variance weighted     6 -0.001135  0.000343   \n            ukb-b-11282            Weighted median     3 -0.000938  0.000476   \n            ukb-b-11282  Inverse variance weighted     3 -0.000911  0.000432   \nprot-a-857  ukb-b-15904            Weighted median     3 -0.001982  0.000843   \n            ukb-b-15904  Inverse variance weighted     3 -0.001484  0.000732   \n\n                             pval  \nid.exposure id.outcome             \nprot-a-1005 ukb-a-577    0.020535  \n            ukb-a-577    0.023938  \nprot-a-1045 ukb-a-92     0.028132  \n            ukb-a-92     0.021127  \nprot-a-1072 ukb-b-175    0.039629  \n...                           ...  \nprot-a-794  ukb-a-92     0.000944  \n            ukb-b-11282  0.048565  \n            ukb-b-11282  0.034799  \nprot-a-857  ukb-b-15904  0.018759  \n            ukb-b-15904  0.042675  \n\n[98 rows x 7 columns]",
      "text/html": "<div>\n<style scoped>\n    .dataframe tbody tr th:only-of-type {\n        vertical-align: middle;\n    }\n\n    .dataframe tbody tr th {\n        vertical-align: top;\n    }\n\n    .dataframe thead th {\n        text-align: right;\n    }\n</style>\n<table border=\"1\" class=\"dataframe\">\n  <thead>\n    <tr style=\"text-align: right;\">\n      <th></th>\n      <th></th>\n      <th>outcome</th>\n      <th>exposure</th>\n      <th>method</th>\n      <th>nsnp</th>\n      <th>b</th>\n      <th>se</th>\n      <th>pval</th>\n    </tr>\n    <tr>\n      <th>id.exposure</th>\n      <th>id.outcome</th>\n      <th></th>\n      <th></th>\n      <th></th>\n      <th></th>\n      <th></th>\n      <th></th>\n      <th></th>\n    </tr>\n  </thead>\n  <tbody>\n    <tr>\n      <th rowspan=\"2\" valign=\"top\">prot-a-1005</th>\n      <th>ukb-a-577</th>\n      <td>Diagnoses - main ICD10: N81 Female genital pro...</td>\n      <td>Coagulation factor Xa || id:prot-a-1005</td>\n      <td>Weighted median</td>\n      <td>4</td>\n      <td>-0.002231</td>\n      <td>0.000963</td>\n      <td>0.020535</td>\n    </tr>\n    <tr>\n      <th>ukb-a-577</th>\n      <td>Diagnoses - main ICD10: N81 Female genital pro...</td>\n      <td>Coagulation factor Xa || id:prot-a-1005</td>\n      <td>Inverse variance weighted</td>\n      <td>4</td>\n      <td>-0.001807</td>\n      <td>0.000800</td>\n      <td>0.023938</td>\n    </tr>\n    <tr>\n      <th rowspan=\"2\" valign=\"top\">prot-a-1045</th>\n      <th>ukb-a-92</th>\n      <td>Non-cancer illness code  self-reported: vagina...</td>\n      <td>Pseudokinase FAM20A || id:prot-a-1045</td>\n      <td>Weighted median</td>\n      <td>4</td>\n      <td>0.001381</td>\n      <td>0.000629</td>\n      <td>0.028132</td>\n    </tr>\n    <tr>\n      <th>ukb-a-92</th>\n      <td>Non-cancer illness code  self-reported: vagina...</td>\n      <td>Pseudokinase FAM20A || id:prot-a-1045</td>\n      <td>Inverse variance weighted</td>\n      <td>4</td>\n      <td>0.001202</td>\n      <td>0.000521</td>\n      <td>0.021127</td>\n    </tr>\n    <tr>\n      <th>prot-a-1072</th>\n      <th>ukb-b-175</th>\n      <td>Operation code: vaginal prolapse/colposuspensi...</td>\n      <td>Low affinity immunoglobulin epsilon Fc recepto...</td>\n      <td>Weighted median</td>\n      <td>3</td>\n      <td>-0.001082</td>\n      <td>0.000526</td>\n      <td>0.039629</td>\n    </tr>\n    <tr>\n      <th>...</th>\n      <th>...</th>\n      <td>...</td>\n      <td>...</td>\n      <td>...</td>\n      <td>...</td>\n      <td>...</td>\n      <td>...</td>\n      <td>...</td>\n    </tr>\n    <tr>\n      <th rowspan=\"3\" valign=\"top\">prot-a-794</th>\n      <th>ukb-a-92</th>\n      <td>Non-cancer illness code  self-reported: vagina...</td>\n      <td>Beta-defensin 119 || id:prot-a-794</td>\n      <td>Inverse variance weighted</td>\n      <td>6</td>\n      <td>-0.001135</td>\n      <td>0.000343</td>\n      <td>0.000944</td>\n    </tr>\n    <tr>\n      <th>ukb-b-11282</th>\n      <td>Non-cancer illness code, self-reported: vagina...</td>\n      <td>Beta-defensin 119 || id:prot-a-794</td>\n      <td>Weighted median</td>\n      <td>3</td>\n      <td>-0.000938</td>\n      <td>0.000476</td>\n      <td>0.048565</td>\n    </tr>\n    <tr>\n      <th>ukb-b-11282</th>\n      <td>Non-cancer illness code, self-reported: vagina...</td>\n      <td>Beta-defensin 119 || id:prot-a-794</td>\n      <td>Inverse variance weighted</td>\n      <td>3</td>\n      <td>-0.000911</td>\n      <td>0.000432</td>\n      <td>0.034799</td>\n    </tr>\n    <tr>\n      <th rowspan=\"2\" valign=\"top\">prot-a-857</th>\n      <th>ukb-b-15904</th>\n      <td>Non-cancer illness code, self-reported: prolap...</td>\n      <td>Dipeptidase 2 || id:prot-a-857</td>\n      <td>Weighted median</td>\n      <td>3</td>\n      <td>-0.001982</td>\n      <td>0.000843</td>\n      <td>0.018759</td>\n    </tr>\n    <tr>\n      <th>ukb-b-15904</th>\n      <td>Non-cancer illness code, self-reported: prolap...</td>\n      <td>Dipeptidase 2 || id:prot-a-857</td>\n      <td>Inverse variance weighted</td>\n      <td>3</td>\n      <td>-0.001484</td>\n      <td>0.000732</td>\n      <td>0.042675</td>\n    </tr>\n  </tbody>\n</table>\n<p>98 rows × 7 columns</p>\n</div>"
     },
     "execution_count": 17,
     "metadata": {},
     "output_type": "execute_result"
    }
   ],
   "source": [
    "filt_res = res.query(\"nsnp > 1 and pval < 0.05\")\n",
    "counts = filt_res.groupby([\"id.exposure\", \"id.outcome\"])['b'].count()\n",
    "filt_index = counts[counts > 1].index\n",
    "filt_res = filt_res.set_index([\"id.exposure\", \"id.outcome\"]).loc[filt_index]\n",
    "filt_res"
   ],
   "metadata": {
    "collapsed": false,
    "pycharm": {
     "name": "#%%\n"
    }
   }
  },
  {
   "cell_type": "code",
   "execution_count": 18,
   "outputs": [],
   "source": [
    "filt_res.to_csv(os.path.join(results_dir, 'prot_vs_prolapse_filtered.csv'))\n"
   ],
   "metadata": {
    "collapsed": false,
    "pycharm": {
     "name": "#%%\n"
    }
   }
  },
  {
   "cell_type": "code",
   "execution_count": 29,
   "outputs": [],
   "source": [
    "filt_res = res.query(\"nsnp > 2\").set_index([\"id.exposure\", \"id.outcome\"])\n",
    "all_same_sgn_fun = lambda ser: (ser > 0).all() or (ser < 0).all()\n",
    "all_same_sgn = filt_res.groupby([\"id.exposure\", \"id.outcome\"])['b'].agg(all_same_sgn_fun)\n",
    "filt_res = filt_res.loc[all_same_sgn].sort_values(['nsnp', \"id.exposure\", \"id.outcome\", 'method'], ascending=[False, True, True, True])\n",
    "filt_res.to_csv(os.path.join(results_dir, 'prot_vs_prolapse_filtered.csv'))\n"
   ],
   "metadata": {
    "collapsed": false,
    "pycharm": {
     "name": "#%%\n"
    }
   }
  },
  {
   "cell_type": "code",
   "execution_count": 27,
   "outputs": [
    {
     "data": {
      "text/plain": "3    2630\n4     620\n5     190\n6      50\n7       5\n8       5\nName: nsnp, dtype: int64"
     },
     "execution_count": 27,
     "metadata": {},
     "output_type": "execute_result"
    }
   ],
   "source": [
    "filt_res.nsnp.value_counts()\n"
   ],
   "metadata": {
    "collapsed": false,
    "pycharm": {
     "name": "#%%\n"
    }
   }
  }
 ],
 "metadata": {
  "kernelspec": {
   "display_name": "Python 3",
   "language": "python",
   "name": "python3"
  },
  "language_info": {
   "codemirror_mode": {
    "name": "ipython",
    "version": 3
   },
   "file_extension": ".py",
   "mimetype": "text/x-python",
   "name": "python",
   "nbconvert_exporter": "python",
   "pygments_lexer": "ipython3",
   "version": "3.8.6"
  }
 },
 "nbformat": 4,
 "nbformat_minor": 4
}